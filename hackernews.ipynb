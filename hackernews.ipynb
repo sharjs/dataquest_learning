{
 "cells": [
  {
   "cell_type": "markdown",
   "metadata": {
    "collapsed": true
   },
   "source": [
    "# Hacker News Article Analysis\n",
    "\n",
    "## Introduction\n",
    "\n",
    "This project utilizes the Hacker News articles dataset. \n",
    "It is intended to compare the popularity of two types of posts: <code>Ask HN</code> and <code>Show HN</code>, to determine which obtains more comments, and whether posts uploaded at a certain time receive more comments on average. \n",
    "\n",
    "## Preliminaries\n",
    "\n",
    "We begin by reading and exploring the <code>hacker_news.csv</code> file."
   ]
  },
  {
   "cell_type": "code",
   "execution_count": 2,
   "metadata": {
    "collapsed": true
   },
   "outputs": [],
   "source": [
    "opened_file = open('hacker_news.csv')\n",
    "from csv import reader\n",
    "read_file = reader(opened_file)\n",
    "hn = list(read_file) #Dataset generated"
   ]
  },
  {
   "cell_type": "code",
   "execution_count": 3,
   "metadata": {
    "collapsed": false
   },
   "outputs": [
    {
     "name": "stdout",
     "output_type": "stream",
     "text": [
      "[['id', 'title', 'url', 'num_points', 'num_comments', 'author', 'created_at'], ['12224879', 'Interactive Dynamic Video', 'http://www.interactivedynamicvideo.com/', '386', '52', 'ne0phyte', '8/4/2016 11:52'], ['10975351', 'How to Use Open Source and Shut the Fuck Up at the Same Time', 'http://hueniverse.com/2016/01/26/how-to-use-open-source-and-shut-the-fuck-up-at-the-same-time/', '39', '10', 'josep2', '1/26/2016 19:30'], ['11964716', \"Florida DJs May Face Felony for April Fools' Water Joke\", 'http://www.thewire.com/entertainment/2013/04/florida-djs-april-fools-water-joke/63798/', '2', '1', 'vezycash', '6/23/2016 22:20'], ['11919867', 'Technology ventures: From Idea to Enterprise', 'https://www.amazon.com/Technology-Ventures-Enterprise-Thomas-Byers/dp/0073523429', '3', '1', 'hswarna', '6/17/2016 0:01']]\n"
     ]
    }
   ],
   "source": [
    "print(hn[:5])"
   ]
  },
  {
   "cell_type": "markdown",
   "metadata": {},
   "source": [
    "We need to remove the header row of the <code>hn</code> dataset."
   ]
  },
  {
   "cell_type": "code",
   "execution_count": 4,
   "metadata": {
    "collapsed": false
   },
   "outputs": [],
   "source": [
    "headers = hn[0]\n",
    "del hn[0]"
   ]
  },
  {
   "cell_type": "markdown",
   "metadata": {},
   "source": [
    "The header is displayed below."
   ]
  },
  {
   "cell_type": "code",
   "execution_count": 5,
   "metadata": {
    "collapsed": false
   },
   "outputs": [
    {
     "name": "stdout",
     "output_type": "stream",
     "text": [
      "['id', 'title', 'url', 'num_points', 'num_comments', 'author', 'created_at']\n"
     ]
    }
   ],
   "source": [
    "print(headers)"
   ]
  },
  {
   "cell_type": "markdown",
   "metadata": {},
   "source": [
    "The dataset without the header is tested below."
   ]
  },
  {
   "cell_type": "code",
   "execution_count": 6,
   "metadata": {
    "collapsed": false
   },
   "outputs": [
    {
     "name": "stdout",
     "output_type": "stream",
     "text": [
      "[['12224879', 'Interactive Dynamic Video', 'http://www.interactivedynamicvideo.com/', '386', '52', 'ne0phyte', '8/4/2016 11:52'], ['10975351', 'How to Use Open Source and Shut the Fuck Up at the Same Time', 'http://hueniverse.com/2016/01/26/how-to-use-open-source-and-shut-the-fuck-up-at-the-same-time/', '39', '10', 'josep2', '1/26/2016 19:30'], ['11964716', \"Florida DJs May Face Felony for April Fools' Water Joke\", 'http://www.thewire.com/entertainment/2013/04/florida-djs-april-fools-water-joke/63798/', '2', '1', 'vezycash', '6/23/2016 22:20'], ['11919867', 'Technology ventures: From Idea to Enterprise', 'https://www.amazon.com/Technology-Ventures-Enterprise-Thomas-Byers/dp/0073523429', '3', '1', 'hswarna', '6/17/2016 0:01'], ['10301696', 'Note by Note: The Making of Steinway L1037 (2007)', 'http://www.nytimes.com/2007/11/07/movies/07stein.html?_r=0', '8', '2', 'walterbell', '9/30/2015 4:12']]\n"
     ]
    }
   ],
   "source": [
    "print(hn[:5])"
   ]
  },
  {
   "cell_type": "markdown",
   "metadata": {},
   "source": [
    "## Filtering the data\n",
    "\n",
    "The articles which do not start with <code>Ask HN</code> and <code>Show HN</code> have to be filtered out."
   ]
  },
  {
   "cell_type": "code",
   "execution_count": 7,
   "metadata": {
    "collapsed": false
   },
   "outputs": [],
   "source": [
    "ask_posts = []\n",
    "show_posts = []\n",
    "other_posts = []\n",
    "\n",
    "for r in hn:\n",
    "    title = r[1]\n",
    "    if title.lower().startswith('ask hn'):\n",
    "        ask_posts.append(r)\n",
    "    elif title.lower().startswith('show hn'):\n",
    "        show_posts.append(r)\n",
    "    else:\n",
    "        other_posts.append(r)"
   ]
  },
  {
   "cell_type": "code",
   "execution_count": 8,
   "metadata": {
    "collapsed": false
   },
   "outputs": [
    {
     "name": "stdout",
     "output_type": "stream",
     "text": [
      "The number of Ask HN posts is 1744\n",
      "The number of Show HN posts is 1162\n",
      "The number of other posts is 17194\n"
     ]
    }
   ],
   "source": [
    "print('The number of Ask HN posts is '+str(len(ask_posts)))\n",
    "print('The number of Show HN posts is '+str(len(show_posts)))\n",
    "print('The number of other posts is '+str(len(other_posts)))"
   ]
  },
  {
   "cell_type": "markdown",
   "metadata": {},
   "source": [
    "## Analysis\n",
    "\n",
    "### Comparison of Number of Comments on Ask v/s Show posts\n",
    "\n",
    "We shall determine whether <code>Ask HN</code> or <code>Show HN</code> articles obtain a greater number of comments of average."
   ]
  },
  {
   "cell_type": "code",
   "execution_count": 9,
   "metadata": {
    "collapsed": false
   },
   "outputs": [
    {
     "name": "stdout",
     "output_type": "stream",
     "text": [
      "The average number of comments on Ask HN posts is 14\n"
     ]
    }
   ],
   "source": [
    "total_ask_comments = 0\n",
    "\n",
    "for p in ask_posts:\n",
    "    num_comments = int(p[4])\n",
    "    total_ask_comments+=num_comments\n",
    "    \n",
    "avg_ask_comments = round(total_ask_comments/len(ask_posts))\n",
    "print(\"The average number of comments on Ask HN posts is \"+str(avg_ask_comments))"
   ]
  },
  {
   "cell_type": "code",
   "execution_count": 10,
   "metadata": {
    "collapsed": false
   },
   "outputs": [
    {
     "name": "stdout",
     "output_type": "stream",
     "text": [
      "The average number of comments on Show HN posts is 10\n"
     ]
    }
   ],
   "source": [
    "total_show_comments = 0\n",
    "\n",
    "for p in show_posts:\n",
    "    num_comments = int(p[4])\n",
    "    total_show_comments+=num_comments\n",
    "    \n",
    "avg_show_comments = round(total_show_comments/len(show_posts))\n",
    "print(\"The average number of comments on Show HN posts is \"+str(avg_show_comments))"
   ]
  },
  {
   "cell_type": "markdown",
   "metadata": {},
   "source": [
    "#### Conclusion\n",
    "\n",
    "From the above outputs, it can be concluded that <code>Ask HN</code> posts receive more comments on average (14) than <code>Show HN</code> posts (10).\n",
    "\n",
    "Since <code>Ask HN</code> posts receive more comments on average, our remaining analyses will focus solely on these posts."
   ]
  },
  {
   "cell_type": "markdown",
   "metadata": {
    "collapsed": true
   },
   "source": [
    "### Investigating the relationship between post creation time and number of comments\n",
    "\n",
    "We aim to find whether posts created at a certain time receive more comments on average.\n",
    "\n",
    "For this purpose, we extract the creation time and number of comments of each article. Using these, we create 2 dictionaries showing total number of posts at a specific time and total number of comments posted at that time respectively\n",
    "\n",
    "\n"
   ]
  },
  {
   "cell_type": "code",
   "execution_count": 25,
   "metadata": {
    "collapsed": false
   },
   "outputs": [],
   "source": [
    "import datetime as dt\n",
    "\n",
    "result_list = []\n",
    "for row in ask_posts:\n",
    "    to_add = []\n",
    "    to_add.append(row[6]) #created_at \n",
    "    to_add.append(row[4]) #num_comments\n",
    "    result_list.append(to_add)\n",
    "\n",
    "counts_by_hour = {}\n",
    "comments_by_hour = {}\n",
    "\n",
    "for result in result_list:\n",
    "    date_hour_str = result[0] \n",
    "    comments = int(result[1])\n",
    "    \n",
    "    date_hour = dt.datetime.strptime(date_hour_str,\"%m/%d/%Y %H:%M\")\n",
    "    date_hour = date_hour.time().hour\n",
    "    \n",
    "    if date_hour not in counts_by_hour:\n",
    "        counts_by_hour[date_hour] = 1\n",
    "        comments_by_hour[date_hour] = comments\n",
    "    else:\n",
    "        counts_by_hour[date_hour] += 1\n",
    "        comments_by_hour[date_hour] += comments"
   ]
  },
  {
   "cell_type": "markdown",
   "metadata": {},
   "source": [
    "We will now find the average number of comments per post for posts created during each hour of the day."
   ]
  },
  {
   "cell_type": "code",
   "execution_count": 31,
   "metadata": {
    "collapsed": false
   },
   "outputs": [
    {
     "name": "stdout",
     "output_type": "stream",
     "text": [
      "Read as [Hour, Average Number of Comments]\n",
      "[[0, 8.127272727272727], [1, 11.383333333333333], [2, 23.810344827586206], [3, 7.796296296296297], [4, 7.170212765957447], [5, 10.08695652173913], [6, 9.022727272727273], [7, 7.852941176470588], [8, 10.25], [9, 5.5777777777777775], [10, 13.440677966101696], [11, 11.051724137931034], [12, 9.41095890410959], [13, 14.741176470588234], [14, 13.233644859813085], [15, 38.5948275862069], [16, 16.796296296296298], [17, 11.46], [18, 13.20183486238532], [19, 10.8], [20, 21.525], [21, 16.009174311926607], [22, 6.746478873239437], [23, 7.985294117647059]]\n"
     ]
    }
   ],
   "source": [
    "avg_by_hour = []\n",
    "\n",
    "for hour in comments_by_hour:\n",
    "    avg_by_hour.append([hour,(comments_by_hour[hour]/counts_by_hour[hour])])\n",
    "\n",
    "print(\"Read as [Hour, Average Number of Comments]\")    \n",
    "print(avg_by_hour)"
   ]
  },
  {
   "cell_type": "markdown",
   "metadata": {},
   "source": [
    "To facilitate the interpretation of the above result, we will sort by 5 highest comment values after swapping positions of the elements of the <code>avg_by_hour</code> list."
   ]
  },
  {
   "cell_type": "code",
   "execution_count": 33,
   "metadata": {
    "collapsed": false
   },
   "outputs": [
    {
     "name": "stdout",
     "output_type": "stream",
     "text": [
      "[[8.127272727272727, 0], [11.383333333333333, 1], [23.810344827586206, 2], [7.796296296296297, 3], [7.170212765957447, 4], [10.08695652173913, 5], [9.022727272727273, 6], [7.852941176470588, 7], [10.25, 8], [5.5777777777777775, 9], [13.440677966101696, 10], [11.051724137931034, 11], [9.41095890410959, 12], [14.741176470588234, 13], [13.233644859813085, 14], [38.5948275862069, 15], [16.796296296296298, 16], [11.46, 17], [13.20183486238532, 18], [10.8, 19], [21.525, 20], [16.009174311926607, 21], [6.746478873239437, 22], [7.985294117647059, 23]]\n"
     ]
    }
   ],
   "source": [
    "swap_avg_by_hour = []\n",
    "\n",
    "for row in avg_by_hour:\n",
    "    swap_avg_by_hour.append([row[1],row[0]])\n",
    "\n",
    "print(swap_avg_by_hour)"
   ]
  },
  {
   "cell_type": "code",
   "execution_count": 34,
   "metadata": {
    "collapsed": true
   },
   "outputs": [],
   "source": [
    "sorted_swap = sorted(swap_avg_by_hour, reverse=True)"
   ]
  },
  {
   "cell_type": "code",
   "execution_count": 41,
   "metadata": {
    "collapsed": false
   },
   "outputs": [
    {
     "name": "stdout",
     "output_type": "stream",
     "text": [
      "Top 5 Hours for Ask Posts Comments\n",
      "\n",
      "15:00:\t38.59 average comments per post\n",
      "02:00:\t23.81 average comments per post\n",
      "20:00:\t21.52 average comments per post\n",
      "16:00:\t16.80 average comments per post\n",
      "21:00:\t16.01 average comments per post\n"
     ]
    }
   ],
   "source": [
    "print(\"Top 5 Hours for Ask Posts Comments\\n\")\n",
    "\n",
    "for each in sorted_swap[:5]:\n",
    "    creation_hour = dt.datetime.strptime(str(each[1]),\"%H\")\n",
    "    template = \"{t}:\\t{a:.2f} average comments per post\"\n",
    "    output = template.format(t=creation_hour.strftime(\"%H:%M\"),a=each[0])\n",
    "    print(output)"
   ]
  },
  {
   "cell_type": "markdown",
   "metadata": {},
   "source": [
    "Since the times output above are of the EST time zone, to determine the optimum time for us to create a post, we need to convert the time to Mauritius time (EST +8)."
   ]
  },
  {
   "cell_type": "code",
   "execution_count": 44,
   "metadata": {
    "collapsed": false
   },
   "outputs": [
    {
     "name": "stdout",
     "output_type": "stream",
     "text": [
      "Top 5 Hours for Ask Posts Comments (Mauritius Time)\n",
      "\n",
      "23:00:\t38.59 average comments per post\n",
      "10:00:\t23.81 average comments per post\n",
      "04:00:\t21.52 average comments per post\n",
      "00:00:\t16.80 average comments per post\n",
      "05:00:\t16.01 average comments per post\n"
     ]
    }
   ],
   "source": [
    "mtius_time_offset = dt.timedelta(hours=8)\n",
    "\n",
    "print(\"Top 5 Hours for Ask Posts Comments (Mauritius Time)\\n\")\n",
    "\n",
    "for each in sorted_swap[:5]:\n",
    "    creation_hour = dt.datetime.strptime(str(each[1]),\"%H\")\n",
    "    creation_hour += mtius_time_offset\n",
    "    template = \"{t}:\\t{a:.2f} average comments per post\"\n",
    "    output = template.format(t=creation_hour.strftime(\"%H:%M\"),a=each[0])\n",
    "    print(output)"
   ]
  },
  {
   "cell_type": "markdown",
   "metadata": {},
   "source": [
    "###### A guided project by sharjs, learning Data Science at DataQuest.io"
   ]
  }
 ],
 "metadata": {
  "kernelspec": {
   "display_name": "Python 3",
   "language": "python",
   "name": "python3"
  },
  "language_info": {
   "codemirror_mode": {
    "name": "ipython",
    "version": 3
   },
   "file_extension": ".py",
   "mimetype": "text/x-python",
   "name": "python",
   "nbconvert_exporter": "python",
   "pygments_lexer": "ipython3",
   "version": "3.4.3"
  }
 },
 "nbformat": 4,
 "nbformat_minor": 2
}
